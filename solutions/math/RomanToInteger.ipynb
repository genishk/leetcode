{
 "cells": [
  {
   "cell_type": "code",
   "execution_count": null,
   "metadata": {},
   "outputs": [],
   "source": [
    "class Solution:\n",
    "    def romanToInt(self, s: str) -> int:\n",
    "        roman_to_int = {\n",
    "            'I': 1,\n",
    "            'V': 5,\n",
    "            'X': 10,\n",
    "            'L': 50,\n",
    "            'C': 100,\n",
    "            'D': 500,\n",
    "            'M': 1000\n",
    "        }\n",
    "        \n",
    "        total = roman_to_int[s[-1]]  # 마지막 문자의 값으로 시작\n",
    "        \n",
    "        # 오른쪽에서 왼쪽으로 읽기\n",
    "        for i in range(len(s)-2, -1, -1):\n",
    "            current = roman_to_int[s[i]]\n",
    "            previous = roman_to_int[s[i+1]]\n",
    "            \n",
    "            # 현재 값이 이전(오른쪽) 값보다 작으면 빼고, 크거나 같으면 더함\n",
    "            if current < previous:\n",
    "                total -= current\n",
    "            else:\n",
    "                total += current\n",
    "                \n",
    "        return total"
   ]
  }
 ],
 "metadata": {
  "kernelspec": {
   "display_name": "myenv",
   "language": "python",
   "name": "python3"
  },
  "language_info": {
   "codemirror_mode": {
    "name": "ipython",
    "version": 3
   },
   "file_extension": ".py",
   "mimetype": "text/x-python",
   "name": "python",
   "nbconvert_exporter": "python",
   "pygments_lexer": "ipython3",
   "version": "3.9.20"
  }
 },
 "nbformat": 4,
 "nbformat_minor": 2
}
