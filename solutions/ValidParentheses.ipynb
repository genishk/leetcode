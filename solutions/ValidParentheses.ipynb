{
 "cells": [
  {
   "cell_type": "code",
   "execution_count": 2,
   "metadata": {},
   "outputs": [],
   "source": [
    "class Solution:\n",
    "    def isValid(self, s: str) -> bool:\n",
    "        # 스택을 이용하여 괄호의 짝을 맞추는 문제\n",
    "        stack = []\n",
    "        for c in s:\n",
    "            # 여는 괄호일 경우 스택에 추가\n",
    "            if c == '(' or c == '{' or c == '[':\n",
    "                stack.append(c)\n",
    "            else:\n",
    "                # 닫는 괄호인데 스택이 비어있으면 False\n",
    "                if not stack:\n",
    "                    return False\n",
    "                # 각각의 괄호 짝이 맞는지 확인하고 맞으면 스택에서 제거\n",
    "                if c == ')' and stack[-1] == '(':\n",
    "                    stack.pop()\n",
    "                elif c == '}' and stack[-1] == '{':\n",
    "                    stack.pop()\n",
    "                elif c == ']' and stack[-1] == '[':\n",
    "                    stack.pop()\n",
    "                else:\n",
    "                    return False\n",
    "        # 스택이 비어있으면 True, 아니면 False\n",
    "        return not stack"
   ]
  }
 ],
 "metadata": {
  "kernelspec": {
   "display_name": "myenv",
   "language": "python",
   "name": "python3"
  },
  "language_info": {
   "codemirror_mode": {
    "name": "ipython",
    "version": 3
   },
   "file_extension": ".py",
   "mimetype": "text/x-python",
   "name": "python",
   "nbconvert_exporter": "python",
   "pygments_lexer": "ipython3",
   "version": "3.9.20"
  }
 },
 "nbformat": 4,
 "nbformat_minor": 2
}
